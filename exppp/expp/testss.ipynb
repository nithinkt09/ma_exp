{
 "cells": [
  {
   "cell_type": "code",
   "execution_count": 1,
   "metadata": {},
   "outputs": [],
   "source": [
    "import numpy as np"
   ]
  },
  {
   "cell_type": "code",
   "execution_count": 2,
   "metadata": {},
   "outputs": [
    {
     "name": "stdout",
     "output_type": "stream",
     "text": [
      "[0, 1, 4, 9, 16, 25, 36, 49, 64, 81]\n",
      "[0, 2, 4, 6, 8]\n"
     ]
    }
   ],
   "source": [
    "a = np.arange(10, dtype=int)\n",
    "\n",
    "b = lambda a: list(map(lambda x: x**2,a))\n",
    "c = lambda a: list(filter(lambda x: x % 2 == 0, a))\n",
    "print(b(a))\n",
    "print(c(a))"
   ]
  },
  {
   "cell_type": "code",
   "execution_count": 3,
   "metadata": {},
   "outputs": [],
   "source": [
    "from typing import Callable, Any\n",
    "import numpy as np\n",
    "import pandas as pd\n",
    "import geopandas as gpd\n",
    "import torch as torch\n",
    "from sklearn.datasets import make_swiss_roll\n",
    "from types import SimpleNamespace\n",
    "\n",
    "\n",
    "class DynamicObject(SimpleNamespace):\n",
    "\n",
    "    def __getitem__(self, key):\n",
    "        return getattr(self, key)\n",
    "    \n",
    "    def __setitem__(self, key, value):\n",
    "        setattr(self, key, value)\n",
    "\n",
    "\n",
    "# get the data values as X and parameters that are used to generate that data values as t from swiss roll data\n",
    "X, t = make_swiss_roll(n_samples=1000, random_state=42) #random value is set to ensure that the data generate has same random state everytime\n",
    "\n",
    "\n",
    "# use dynamic object to represent data as swiss_roll.data and t value parameters as swiss_roll.parameters\n",
    "swiss_roll = DynamicObject(data=X, parameters=t)\n",
    "\n",
    "swiss_roll_set = {(tuple(row), param) for row, param in zip(swiss_roll.data, swiss_roll.parameters)}"
   ]
  },
  {
   "cell_type": "code",
   "execution_count": null,
   "metadata": {},
   "outputs": [
    {
     "name": "stdout",
     "output_type": "stream",
     "text": [
      "True\n"
     ]
    }
   ],
   "source": [
    "swiss_roll_tval_subsets = lambda x, y: {(data, parameter) for data, parameter in swiss_roll_set if (parameter >=  x and parameter < y)}\n",
    "swiss_roll_t_lt_5 = {(data, parameter) for data, parameter in swiss_roll_set if parameter <5 }\n",
    "swiss_roll_t_gt_0_lt_5 = swiss_roll_tval_subsets(0, 5)\n",
    "swiss_roll_t_gt_5_lt_10 = swiss_roll_tval_subsets(5, 10)\n",
    "swiss_roll_t_gt_10_max = swiss_roll_tval_subsets(10, max(param for data, param in swiss_roll_set))\n"
   ]
  },
  {
   "cell_type": "code",
   "execution_count": 11,
   "metadata": {},
   "outputs": [],
   "source": [
    "from sklearn.datasets import load_iris\n",
    "\n",
    "load_iris_data = load_iris()\n",
    "iris_data = load_iris_data.data # features or measurements \n",
    "iris_target = load_iris_data.target # target or numerical labels (0, 1, 2, 3)\n",
    "iris_target_names = load_iris_data.target_names # species name for respective targets\n"
   ]
  },
  {
   "cell_type": "code",
   "execution_count": null,
   "metadata": {},
   "outputs": [],
   "source": []
  }
 ],
 "metadata": {
  "kernelspec": {
   "display_name": "sage-env",
   "language": "python",
   "name": "python3"
  },
  "language_info": {
   "codemirror_mode": {
    "name": "ipython",
    "version": 3
   },
   "file_extension": ".py",
   "mimetype": "text/x-python",
   "name": "python",
   "nbconvert_exporter": "python",
   "pygments_lexer": "ipython3",
   "version": "3.9.21"
  }
 },
 "nbformat": 4,
 "nbformat_minor": 2
}
