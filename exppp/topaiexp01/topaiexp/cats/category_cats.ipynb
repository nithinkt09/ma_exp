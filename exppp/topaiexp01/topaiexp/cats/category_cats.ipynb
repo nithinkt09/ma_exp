{
 "cells": [
  {
   "cell_type": "markdown",
   "metadata": {},
   "source": [
    "category is an abstract structure that contains objects and the morphisms (relationships between objects)\n",
    "a category C can thus be defined as:\n",
    "    - Obj(C): class or collections of objects \n",
    "    - Hom(A, B): for any pair of objects A and in Obj(C), a set of morphisms, \n",
    "            where each morphism f in Hom(A, B) is an rule of assignemnt (process or transformation) from A to B (f: A -> B), A is source or domain, B is target or codomain"
   ]
  },
  {
   "cell_type": "markdown",
   "metadata": {},
   "source": [
    "identity morphism (id_A: A -> A): for every object A in a category C identity morphism acts as a do nothing operation, so that for any morphism f: A -> B\n",
    "                                (f o id_A) = f;  (id_B o f) = f\n",
    "\n",
    "composition: if f and g are morphisms with f: A -> B and g: B -> C, then (g o f) : A -> C\n",
    "associativity: morphisms can be composed in any segments or parts; (f o g) o h = f o (g o h)\n",
    "\n",
    "category of set"
   ]
  },
  {
   "cell_type": "markdown",
   "metadata": {},
   "source": [
    "category of sets:\n",
    "    - objects are sets\n",
    "    - morphisms are functions between sets\n",
    "    - identity morphism is an identity function (input is the same as output)"
   ]
  },
  {
   "cell_type": "markdown",
   "metadata": {},
   "source": [
    "in the context of data:\n",
    "    - object can be regarded as an entity that contains data and morphisms as operations (filtering, scalring, feature extraction)\n",
    "    - associativity of composition ensures that when applying a series of transformation the order in which the operations are grouped doesn't matter\n",
    "    - breaking data into composable pieces helps in clearly identity how operations transform the data\n",
    "    "
   ]
  },
  {
   "cell_type": "code",
   "execution_count": 16,
   "metadata": {},
   "outputs": [],
   "source": [
    "# sample implementation\n",
    "import numpy as np\n",
    "from sklearn.datasets import load_iris \n",
    "from functools import reduce\n",
    "from typing import Callable"
   ]
  },
  {
   "cell_type": "code",
   "execution_count": 17,
   "metadata": {},
   "outputs": [],
   "source": [
    "iris_data = load_iris().data\n",
    "\n",
    "# a morphism that scales the entire dataset\n",
    "scale_data: Callable[[np.ndarray, float], np.ndarray] = lambda x, y: x*y # x: data, y: scaling factor\n",
    "\n",
    "# a morphism to add constant value\n",
    "constant_add: Callable[[np.ndarray, float], np.ndarray] = lambda x, y: x + y # x: data, y: scaling factor\n",
    "\n",
    "# identity morphism\n",
    "identity_morph: Callable[[np.ndarray], np.ndarray] = lambda x: x # returns the same input \n",
    "\n",
    "# compose morphisms f, g; f: A -> B, g: B -> C, (g o f)(x) = g(f(x))\n",
    "compose_morphism = lambda f, g: lambda x: g(f(x)) \n",
    "\n",
    "\n",
    "# compose multiple or a sequence of morphisms/functions\n",
    "\n",
    "compose_all = lambda *funcs: reduce(\n",
    "\n",
    "    lambda f, g:lambda x: g(f(x)),\n",
    "    funcs,\n",
    "    identity_morph\n",
    ")\n",
    "\n",
    "scaled_iris_data = scale_data(iris_data, 2)\n",
    "\n"
   ]
  },
  {
   "cell_type": "code",
   "execution_count": null,
   "metadata": {},
   "outputs": [],
   "source": [
    "# verifying identity function applied to data produces a result that is elementwise equal to the original data\n",
    "# np.closeall: method that compares two arrays or array like objects and returns True if equal \n",
    "assert np.allclose(identity_morph(iris_data), iris_data)"
   ]
  },
  {
   "cell_type": "code",
   "execution_count": null,
   "metadata": {},
   "outputs": [],
   "source": []
  }
 ],
 "metadata": {
  "kernelspec": {
   "display_name": "SageMath 10.5",
   "language": "sage",
   "name": "sagemath"
  },
  "language_info": {
   "codemirror_mode": {
    "name": "ipython",
    "version": 3
   },
   "file_extension": ".py",
   "mimetype": "text/x-python",
   "name": "python",
   "nbconvert_exporter": "python",
   "pygments_lexer": "ipython3",
   "version": "3.9.21"
  }
 },
 "nbformat": 4,
 "nbformat_minor": 2
}
