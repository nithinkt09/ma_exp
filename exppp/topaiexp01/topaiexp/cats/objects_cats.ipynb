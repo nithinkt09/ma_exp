{
 "cells": [
  {
   "cell_type": "markdown",
   "metadata": {},
   "source": [
    "an object is one of the fundamental building block when categorizing concepts that serves as an abstract placeholder for representing an entity without explicity specifying it's internal mechanisms or workings where it's comprehension is based on the role and relationship. \n",
    "\n",
    "key properties:\n",
    "    - abstraction: objects are defined without reference to any of it's internal structure but rather how it intereacts with other objects or systems\n",
    "    - identity: every object in a category is associated with a unique identity\n",
    "    - "
   ]
  }
 ],
 "metadata": {
  "language_info": {
   "name": "python"
  }
 },
 "nbformat": 4,
 "nbformat_minor": 2
}
