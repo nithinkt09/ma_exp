{
 "cells": [
  {
   "cell_type": "markdown",
   "metadata": {},
   "source": [
    "morphisms is a generalized term for mapping between objects that preserves the inherent structure of those objects (properties, operations, or relationships)\n",
    "if the objects are sets a morphism could be a function that assigns element of one domain to an element of codoman based on the specified rule\n",
    "\n",
    "domain or source: object from which the morphism starts\n",
    "codomain or target: object from which the morphism ends\n",
    "mapping rule: a rule of assignment that assigns each element in the domain a unique image in the codomain\n",
    "\n",
    "composition: if f & g are two morphisms with f: A -> B and g: B -> C, then they can be composed to yield another morphism g 0 f : A -> C, g o f = g(f(a)), where a is in A\n",
    "    - composition is associative, where f o (g o h) = (f o g) o h\n",
    "\n",
    "for every object there exists an identity morphism that maps every element to itself"
   ]
  },
  {
   "cell_type": "markdown",
   "metadata": {},
   "source": [
    "in a category C, a homset Hom(A, B) denotes the set of all morphisms (structure-preserving maps) from object A to B\n",
    "    - in the context of data analysis, objects can be regarded as representations of data and morphisms as data transformations or functions\n",
    "    where A could then be a data source and B a target or an object with various transformations of the data each morphism representing respective transformations\n",
    "\n",
    "    - it contains an identity morphisms or do-nothing morphism for each of the objects\n",
    "    - composition: if f: A -> B and g: B -> C, the composition (g o f) is a valid transformation, which helps in ensuring and building complex notions from simpleer steps\n",
    "    - associativity: if the above notion is acheived, then the order in which methods are composed does not effect the final result \n"
   ]
  },
  {
   "cell_type": "code",
   "execution_count": null,
   "metadata": {
    "vscode": {
     "languageId": "plaintext"
    }
   },
   "outputs": [],
   "source": [
    "data representation:\n",
    "    - let A and B be two different objects that represent the same data, where A could be the original data and B could be a transformed version of the same\n",
    "    - Hom(A, B) can also be used to classify all the available maps based on properties such as injectivity (preserving uniqness), surjectivity (completely covering B) \n",
    "    or even isomrphism (a reversible map)\n",
    "    - Hom(A, B) can also be regarded as a search space with all the possible ways to translate the original data set A to transformed data set B, where it helps in \n",
    "    analyzing individual morphisms and then choosing the most optimal or reliable one \n",
    "    - if B is an object that itself contains various types of transformed data objects of a\n",
    "        then Hom(A, B) could be considered as set of all morphisms that represent distinct transformations of the data set A\n",
    "    "
   ]
  }
 ],
 "metadata": {
  "language_info": {
   "name": "python"
  }
 },
 "nbformat": 4,
 "nbformat_minor": 2
}
