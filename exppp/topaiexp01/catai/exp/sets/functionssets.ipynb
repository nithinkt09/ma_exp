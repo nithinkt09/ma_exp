{
 "cells": [
  {
   "cell_type": "code",
   "execution_count": 30,
   "metadata": {},
   "outputs": [],
   "source": [
    "from typing import Iterable, Callable, Any\n",
    "from functools import reduce"
   ]
  },
  {
   "cell_type": "code",
   "execution_count": 31,
   "metadata": {},
   "outputs": [],
   "source": [
    "\"\"\"\n",
    "sets interact with each other via functions, and without invoking the notion of meaning, all functions can be captured via graphs\n",
    "where a  graph is a set of all possible functions which is a subset of the product of two sets\n",
    "\n",
    "if A and B are two sets, then the function f: A -> B signifies the notion that for every element a in A there exists a b in B such that f(a) = b\n",
    "collection of all such functions from A to B itself is also a set denoted by B^A\n",
    "\"\"\"\n",
    "def function_a_b(A: Iterable[Any], B: Iterable[Any], f: Callable[[Any], Any]) -> bool:\n",
    "    A, B = set(A), set(B) # converting iterables to sets for faster computation\n",
    "    image_f = {f(a) for a in A} # making a set of images or values of f applied on A\n",
    "    return image_f.issubset(B)# checks if every element in image_f is also in B or is a subset"
   ]
  },
  {
   "cell_type": "code",
   "execution_count": 32,
   "metadata": {},
   "outputs": [],
   "source": [
    "\"\"\"\n",
    "identity function gives input as is for output or return value \n",
    "\"\"\"\n",
    "def identity_function(A):\n",
    "    return {a for a in A}"
   ]
  },
  {
   "cell_type": "code",
   "execution_count": 33,
   "metadata": {},
   "outputs": [],
   "source": [
    "def indexed_set(A):\n",
    "    return dict(enumerate(A))"
   ]
  },
  {
   "cell_type": "code",
   "execution_count": 34,
   "metadata": {},
   "outputs": [
    {
     "name": "stdout",
     "output_type": "stream",
     "text": [
      "{0: 1, 1: 2, 2: 3, 3: 4, 4: 5}\n"
     ]
    }
   ],
   "source": [
    "A = {1, 2, 3, 4, 5}\n",
    "indexed_a = indexed_set(A)\n",
    "print(indexed_a)"
   ]
  },
  {
   "cell_type": "code",
   "execution_count": 35,
   "metadata": {},
   "outputs": [],
   "source": [
    "\"\"\"\n",
    "composition of functions, if f and g are functions, where f: A -> B; g: B -> C ; then f and g can  be composed as (g o f) : A -> C\n",
    "where the image of f is a subset of the domain of g such that for all a in A there exists a c in C such that (g o f)(a) = c\n",
    "\n",
    "composition is also associative, if there are more than two functions, the order of composition of functions does not matter\n",
    "\"\"\"\n",
    "\n",
    "def compose_functions(f, g):\n",
    "    return lambda x : g(f(x))\n",
    "\n",
    "\n",
    "def compose_multiple_funcitons(*functions):\n",
    "    return reduce(lambda f, g: lambda x: g(f(x)), functions)"
   ]
  },
  {
   "cell_type": "code",
   "execution_count": 36,
   "metadata": {},
   "outputs": [],
   "source": [
    "\"\"\"\n",
    "injective: a function f is injective if no two elements in the source or domain set have same or map to the same element in the image set\n",
    "           if f(a) == f(b) then a == b\n",
    "\"\"\"\n",
    "def is_injective(domain, func):\n",
    "    domain = set(domain)\n",
    "    image_f = {func(a) for a in domain}\n",
    "    return all((a != b) for a in image_f for b in image_f)"
   ]
  },
  {
   "cell_type": "code",
   "execution_count": 37,
   "metadata": {},
   "outputs": [
    {
     "name": "stdout",
     "output_type": "stream",
     "text": [
      "False\n"
     ]
    }
   ],
   "source": [
    "dom = { 0, 1, 2. -1}\n",
    "square_ = lambda x: x ** 2\n",
    "\n",
    "print(is_injective(dom, square_))"
   ]
  },
  {
   "cell_type": "code",
   "execution_count": 38,
   "metadata": {},
   "outputs": [],
   "source": [
    "\"\"\"\n",
    "injective: a function f is injective if no two elements in the source or domain set have same or map to the same element in the image set\n",
    "           if f(a) == f(b) then a == b\n",
    "\"\"\"\n",
    "def is_injective(domain, codomain, func):\n",
    "    domain = set(domain) # convert to a set to ensure that the elements are unique and each value is calculated only once\n",
    "    image_f = [func(a) for a in domain] # create a list of images of func on domain set, since this is a list it will store the same value twice if it appears, unlike sets\n",
    "    return set(image_f).issubset(codomain) and len(set(image_f)) == len(image_f) # if the set form of the image which has unique value is equal to the actual image list then it is injective\n",
    "\n",
    "\n",
    "\"\"\"\n",
    "surjective: a function f is surijective if every element in the codoamin has a preimage in the domain\n",
    "where in the length of the image and the length of the codomain must be the same\n",
    "\"\"\"\n",
    "def is_surjective(domain, codomain, func):\n",
    "    domain = set(domain)\n",
    "    codomain = set(codomain)\n",
    "    image_func = {func(a) for a in domain}\n",
    "    return image_func == codomain\n",
    "\n",
    "\n",
    "\"\"\"\n",
    "bijective or one-to-one correspondence is a function where it is both injective and surjective\n",
    "\"\"\"\n",
    "def is_bijective(domain, codomain, func):\n",
    "    return is_injective(domain, codomain, func) and is_surjective(domain, codomain, func)"
   ]
  },
  {
   "cell_type": "code",
   "execution_count": 39,
   "metadata": {},
   "outputs": [],
   "source": [
    "# assuming that AxB already has a tuple of two elements\n",
    "def natural_projections(AxB):\n",
    "    \"\"\"\n",
    "    if there is a set AxB where each element has a tuple then they can be projected seperately onto two sets A, B\n",
    "    \"\"\"\n",
    "    A = {a for (a, _) in AxB}\n",
    "    B = {b for (_, b) in AxB}\n",
    "    return A, B\n",
    "\n",
    "\n",
    "def natural_injection(A, B):\n",
    "    \"\"\"\n",
    "    combining two sets to create a set of tuples with respective elements from each set (disjoint union)\n",
    "    \"\"\"\n",
    "    return {(a, 'a') for a in A} | {(b, 'b') for b in B}"
   ]
  },
  {
   "cell_type": "code",
   "execution_count": 40,
   "metadata": {},
   "outputs": [
    {
     "name": "stdout",
     "output_type": "stream",
     "text": [
      "{1, 2, 3}\n",
      "{1, 2, 3, 4, 'p'}\n",
      "{(2, 3), (2, 2), (1, 'p'), (1, 1), (3, 1), (1, 4)}\n",
      "{(4, 'b'), (2, 'b'), ('p', 'b'), (2, 'a'), (3, 'b'), (3, 'a'), (1, 'b'), (1, 'a')}\n"
     ]
    }
   ],
   "source": [
    "axb = {(1, 'p'), (1, 4), (3, 1), (2, 2), (1, 1), (2, 3)}\n",
    "a, b = natural_projections(axb)\n",
    "adb = natural_injection(a, b)\n",
    "\n",
    "print(a)\n",
    "print(b)\n",
    "print(axb)\n",
    "print(adb)"
   ]
  },
  {
   "cell_type": "code",
   "execution_count": null,
   "metadata": {},
   "outputs": [
    {
     "ename": "TypeError",
     "evalue": "'type' object is not subscriptable",
     "output_type": "error",
     "traceback": [
      "\u001b[0;31m---------------------------------------------------------------------------\u001b[0m",
      "\u001b[0;31mTypeError\u001b[0m                                 Traceback (most recent call last)",
      "Cell \u001b[0;32mIn[6], line 5\u001b[0m\n\u001b[1;32m      1\u001b[0m \u001b[38;5;28;01mdef\u001b[39;00m\u001b[38;5;250m \u001b[39m\u001b[38;5;21mrandom_property\u001b[39m(key, value):\n\u001b[1;32m      2\u001b[0m     \u001b[38;5;28;01mreturn\u001b[39;00m \u001b[38;5;28mobject\u001b[39m[key] \u001b[38;5;241m==\u001b[39m value\n\u001b[0;32m----> 5\u001b[0m intOne \u001b[38;5;241m=\u001b[39m \u001b[43mrandom_property\u001b[49m\u001b[43m(\u001b[49m\u001b[38;5;124;43m\"\u001b[39;49m\u001b[38;5;124;43mint\u001b[39;49m\u001b[38;5;124;43m\"\u001b[39;49m\u001b[43m,\u001b[49m\u001b[43m \u001b[49m\u001b[38;5;241;43m2\u001b[39;49m\u001b[43m)\u001b[49m\n",
      "Cell \u001b[0;32mIn[6], line 2\u001b[0m, in \u001b[0;36mrandom_property\u001b[0;34m(key, value)\u001b[0m\n\u001b[1;32m      1\u001b[0m \u001b[38;5;28;01mdef\u001b[39;00m\u001b[38;5;250m \u001b[39m\u001b[38;5;21mrandom_property\u001b[39m(key, value):\n\u001b[0;32m----> 2\u001b[0m     \u001b[38;5;28;01mreturn\u001b[39;00m \u001b[38;5;28;43mobject\u001b[39;49m\u001b[43m[\u001b[49m\u001b[43mkey\u001b[49m\u001b[43m]\u001b[49m \u001b[38;5;241m==\u001b[39m value\n",
      "\u001b[0;31mTypeError\u001b[0m: 'type' object is not subscriptable"
     ]
    }
   ],
   "source": [
    "def random_property(key, value):\n",
    "    return object[key] == value\n",
    "\n"
   ]
  },
  {
   "cell_type": "code",
   "execution_count": 41,
   "metadata": {},
   "outputs": [],
   "source": [
    "\n",
    "class Catgeory:\n",
    "\n",
    "    def __init__(self):\n",
    "        self.objects = set()\n",
    "        self.homsets = {}\n",
    "\n",
    "    def add_object(self, source):\n",
    "        self.objects.add(source)\n",
    "        hom_set = HomSet(source, source, 'Automorphism', lambda x: x)\n",
    "        self.homsets.add(hom_set())\n",
    "\n",
    "\n",
    "    def compose_morphisms(self, source1, target1, target2, f, g):\n",
    "        if  f in self.homsets[(source1.__name__, target1.__name__)][\"morphisms\"] and g in self.homsets[(target1.__name__, target2.__name__)][\"morphisms\"]:\n",
    "            compose_hom_set = HomSet(source1, target2, morphism= compose_functions(g, f))\n",
    "            self.homsets.add(compose_hom_set())\n",
    "\n",
    "\n",
    "    def get_hom_sets(self):\n",
    "        return self.homsets\n",
    "        \n",
    "    def get_hom_sets_by_target(self, targetObj):\n",
    "        return self.homsets.items[\"target\"] == targetObj\n",
    "        \n",
    "    def get_hom_sets_by_source(self, sourceObj):\n",
    "        return self.homsets.items[\"source\"] == sourceObj\n",
    "    \n",
    "class HomSet:\n",
    "    def __init__(self, source, target, homsettype = None, morphism=None):\n",
    "        self.source = source\n",
    "        self.target = target\n",
    "        self.homsettype = self.morphisms_type()\n",
    "        self.morphisms = {morphism}\n",
    "\n",
    "    def __call__(self):\n",
    "        return {\n",
    "            ((self.source.__name__, self.target.__name)): {\n",
    "                \"source\": self.source,\n",
    "                \"target\": self.target,\n",
    "                \"hom_set_type\": self.homsettype,\n",
    "                \"morphisms\": self.morphisms\n",
    "            }\n",
    "        }\n",
    "    \n",
    "    def morphisms_type(self):\n",
    "        if self.source == self.target:\n",
    "            return \"Endomorphism\"\n",
    "        else:\n",
    "            return \"Morphisms\"\n",
    "\n",
    "    def add_morphism(self, morphism):\n",
    "        self.morphisms.add(morphism)"
   ]
  },
  {
   "cell_type": "code",
   "execution_count": 42,
   "metadata": {},
   "outputs": [],
   "source": [
    "from itertools import chain, combinations\n",
    "def power_set(S):\n",
    "    return {frozenset(chain.from_iterable(combinations(a, r))) for r in range(len(S)) for a in S}"
   ]
  },
  {
   "cell_type": "code",
   "execution_count": 43,
   "metadata": {},
   "outputs": [],
   "source": [
    "def has_morphism(source, target, rule_of_assignment):\n",
    "    image_f = {rule_of_assignment(a) for a in source}\n",
    "    if image_f.issubset(target):\n",
    "        return rule_of_assignment\n",
    "    \n"
   ]
  },
  {
   "cell_type": "code",
   "execution_count": null,
   "metadata": {},
   "outputs": [],
   "source": [
    "\"\"\"\n",
    "let C be a category and let A be an object of C, a category C_A whos objects are certain morphisms in C and morphisms are certain diagrams of C;\n",
    "Objects(C_A) = all morphisms from any object of C to A, where an object of C_A is a morphisms f for some object Z in C, and f belongs to Hom(Z, A)\n",
    "\"\"\""
   ]
  },
  {
   "cell_type": "code",
   "execution_count": 45,
   "metadata": {},
   "outputs": [],
   "source": [
    "def homset(source, target, homsettype=None, morphisms=None):\n",
    "    hom_set = {}\n",
    "    morphisms = set()\n",
    "    hom_set[{source}, {target}] = f'type = {homsettype}'"
   ]
  }
 ],
 "metadata": {
  "kernelspec": {
   "display_name": "sage-env",
   "language": "python",
   "name": "python3"
  },
  "language_info": {
   "codemirror_mode": {
    "name": "ipython",
    "version": 3
   },
   "file_extension": ".py",
   "mimetype": "text/x-python",
   "name": "python",
   "nbconvert_exporter": "python",
   "pygments_lexer": "ipython3",
   "version": "3.9.21"
  }
 },
 "nbformat": 4,
 "nbformat_minor": 2
}
