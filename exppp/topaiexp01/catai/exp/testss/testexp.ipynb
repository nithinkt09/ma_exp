{
 "cells": [
  {
   "cell_type": "markdown",
   "metadata": {},
   "source": [
    "a category is a collection of objects and morphisms (or arrows) between those objects\n",
    "a given category C consists of \n",
    "- class Obj(C) whose elements are objects, objects can be regarded as abstract entities without emphasizing or focusing on the internal structure \n",
    "- Hom(A, B) for any two objects in a category, set of morphisms or arrows from object A to object B\n",
    "\n",
    "identity morphism: for every object A, there exist at least on morphism or do nothing morphism which points from and to the same object\n",
    "composition: for morphisms f in H(A, B) and g in H(B, C); g o f belongs to H(A, C)\n",
    "associativity; chaining morphisms is well defined and the order does not matter on how arrows are composed in pairs\n",
    "\n",
    "\n",
    "category theory abstracts away from the internal workings or structures of objects in a given category and rather is focused on the relationships or operations on an object\n"
   ]
  },
  {
   "cell_type": "markdown",
   "metadata": {},
   "source": [
    "a category has a class of objects and morphisms\n",
    "- objects: various data states (raw or transformed data)\n",
    "- Hom(A, B): for two objects A and B, morphisms or functions that transform data from one state to another state\n",
    "- identity morphism: every object A in the category has an identity 1A or id_A that leaves data unchanged\n",
    "- composition: for any two morphisms f in H(A, B) and g in (B, C), they can be chained to form (g o f) that belongs to H(A, C)\n",
    "- associativity: the way the transformations or morphisms are grouped does not change the outcome\n",
    "- identity: composing morphisms with identity leaves the transformation as is (does not change the outcome)\n",
    "- disjointness of Hom-Sets: each transformation or morphism is tied (from source to a target)"
   ]
  },
  {
   "cell_type": "code",
   "execution_count": null,
   "metadata": {},
   "outputs": [],
   "source": [
    "from sklearn.datasets import load_iris\n"
   ]
  },
  {
   "cell_type": "code",
   "execution_count": 1,
   "metadata": {},
   "outputs": [
    {
     "name": "stdout",
     "output_type": "stream",
     "text": [
      "5\n"
     ]
    }
   ],
   "source": [
    "add = lambda x, y: x + y\n",
    "print(add(2, 3))"
   ]
  },
  {
   "cell_type": "code",
   "execution_count": 2,
   "metadata": {},
   "outputs": [
    {
     "name": "stdout",
     "output_type": "stream",
     "text": [
      "2584\n",
      "2584\n"
     ]
    }
   ],
   "source": [
    "def fibonacci(n):\n",
    "    if n < 2:\n",
    "        return n\n",
    "    else:\n",
    "        return fibonacci(n-1) + fibonacci(n-2)\n",
    "    \n",
    "fibonacci_l = lambda x: x if x < 2 else fibonacci_l(x-1) + fibonacci_l(x-2)\n",
    "\n",
    "print(fibonacci_l(18))\n",
    "print(fibonacci(18))"
   ]
  },
  {
   "cell_type": "code",
   "execution_count": 3,
   "metadata": {},
   "outputs": [
    {
     "name": "stdout",
     "output_type": "stream",
     "text": [
      "17\n"
     ]
    }
   ],
   "source": [
    "compose_function = lambda f, g: (lambda x: f(g(x)))\n",
    "square = lambda x: x * 3\n",
    "addx = lambda x: x + 2\n",
    "coposed = compose_function(addx, square)(5)\n",
    "print(coposed)"
   ]
  },
  {
   "cell_type": "code",
   "execution_count": 4,
   "metadata": {},
   "outputs": [
    {
     "name": "stdout",
     "output_type": "stream",
     "text": [
      "10\n"
     ]
    }
   ],
   "source": [
    "curried = lambda x: lambda y: x + y\n",
    "\n",
    "from functools import reduce\n",
    "fold = reduce(lambda x, y: x+ y, [1, 2, 3, 4])\n",
    "print(fold)"
   ]
  },
  {
   "cell_type": "code",
   "execution_count": 5,
   "metadata": {},
   "outputs": [
    {
     "name": "stdout",
     "output_type": "stream",
     "text": [
      "{(4, 4), (2, 4), (1, 2), (3, 4), (1, 1), (1, 4), (2, 3), (3, 3), (2, 2), (1, 3)}\n"
     ]
    }
   ],
   "source": [
    "relationss = lambda S: {(a, b) for a in S for b in S if a <= b}\n",
    "\n",
    "print(relationss([1, 2, 3, 4]))"
   ]
  },
  {
   "cell_type": "code",
   "execution_count": 6,
   "metadata": {},
   "outputs": [
    {
     "name": "stdout",
     "output_type": "stream",
     "text": [
      "{0, 2, 4, 6, 8, 10, 12, 14, 16, 18, 20, 22, 24, 26, 28, 30, 32, 34, 36, 38, 40, 42, 44, 46, 48, 50, 52, 54, 56, 58, 60, 62, 64, 66, 68, 70, 72, 74, 76, 78, 80, 82, 84, 86, 88, 90, 92, 94, 96, 98}\n"
     ]
    }
   ],
   "source": [
    "# set builder notation from a given universe U\n",
    "build_set = lambda UniverseSet : lambda predicate : {x for x in UniverseSet if predicate(x)}\n",
    "\n",
    "import numpy as np\n",
    "universe_set = np.arange(0, 100, dtype=int)\n",
    "even_num = lambda x: x %2==0\n",
    "\n",
    "print(build_set(universe_set)(even_num))"
   ]
  },
  {
   "cell_type": "code",
   "execution_count": 7,
   "metadata": {},
   "outputs": [
    {
     "name": "stdout",
     "output_type": "stream",
     "text": [
      "{(3, 4), (3, 1), (5, 4), (5, 1), (2, 2), (2, 5), (4, 2), (4, 5), (2, 4), (1, 2), (2, 1), (1, 5), (3, 2), (4, 1), (3, 5), (5, 2), (4, 4), (5, 5), (1, 1), (1, 4)}\n"
     ]
    }
   ],
   "source": [
    "# disjoint union\n",
    "tag_s = lambda A, tag='a': {(a, tag) for a in A}\n",
    "A = {1, 2, 3, 4, 5,}\n",
    "B = {1, 2, 4, 1, 4, 5, 5}\n",
    "disjoint_union = tag_s(A, 'a') | tag_s(B, 'b')\n",
    "\n",
    "\n",
    "cartesian_product = lambda A, B: {(a, b) for a in A for b in B}\n",
    "\n",
    "print(cartesian_product(A, B))"
   ]
  },
  {
   "cell_type": "code",
   "execution_count": 8,
   "metadata": {},
   "outputs": [
    {
     "ename": "NameError",
     "evalue": "name 'x' is not defined",
     "output_type": "error",
     "traceback": [
      "\u001b[0;31m---------------------------------------------------------------------------\u001b[0m",
      "\u001b[0;31mNameError\u001b[0m                                 Traceback (most recent call last)",
      "Cell \u001b[0;32mIn[8], line 6\u001b[0m\n\u001b[1;32m      4\u001b[0m is_symmetric \u001b[38;5;241m=\u001b[39m \u001b[38;5;28;01mlambda\u001b[39;00m X, rel: \u001b[38;5;28mall\u001b[39m(rel(b,a) \u001b[38;5;28;01mfor\u001b[39;00m a \u001b[38;5;129;01min\u001b[39;00m X \u001b[38;5;28;01mfor\u001b[39;00m b \u001b[38;5;129;01min\u001b[39;00m X \u001b[38;5;28;01mif\u001b[39;00m rel(a, b))\n\u001b[1;32m      5\u001b[0m is_transitive \u001b[38;5;241m=\u001b[39m \u001b[38;5;28;01mlambda\u001b[39;00m X, rel: \u001b[38;5;28mall\u001b[39m(rel(a, c) \u001b[38;5;28;01mfor\u001b[39;00m a \u001b[38;5;129;01min\u001b[39;00m X \u001b[38;5;28;01mfor\u001b[39;00m b \u001b[38;5;129;01min\u001b[39;00m X \u001b[38;5;28;01mfor\u001b[39;00m c \u001b[38;5;129;01min\u001b[39;00m X \u001b[38;5;28;01mif\u001b[39;00m rel(a, b) \u001b[38;5;129;01mand\u001b[39;00m rel(b, c))\n\u001b[0;32m----> 6\u001b[0m \u001b[38;5;28mprint\u001b[39m(is_symmetric({\u001b[38;5;241m1\u001b[39m, \u001b[38;5;241m2\u001b[39m, \u001b[38;5;241m3\u001b[39m}, \u001b[43mx\u001b[49m ))\n",
      "\u001b[0;31mNameError\u001b[0m: name 'x' is not defined"
     ]
    }
   ],
   "source": [
    "relation = lambda X, rel : all(rel(a, b) for a in X for b in X)\n",
    "\n",
    "is_reflexive = lambda X, rel: all(rel(a, a) for a in X)\n",
    "is_symmetric = lambda X, rel: all(rel(b,a) for a in X for b in X if rel(a, b))\n",
    "is_transitive = lambda X, rel: all(rel(a, c) for a in X for b in X for c in X if rel(a, b) and rel(b, c))\n",
    "print(is_symmetric({1, 2, 3}, x ))"
   ]
  }
 ],
 "metadata": {
  "kernelspec": {
   "display_name": "sage-env",
   "language": "python",
   "name": "python3"
  },
  "language_info": {
   "codemirror_mode": {
    "name": "ipython",
    "version": 3
   },
   "file_extension": ".py",
   "mimetype": "text/x-python",
   "name": "python",
   "nbconvert_exporter": "python",
   "pygments_lexer": "ipython3",
   "version": "3.9.21"
  }
 },
 "nbformat": 4,
 "nbformat_minor": 2
}
