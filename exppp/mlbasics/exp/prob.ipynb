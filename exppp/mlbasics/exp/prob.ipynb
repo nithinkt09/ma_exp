{
 "cells": [
  {
   "cell_type": "code",
   "execution_count": 21,
   "metadata": {},
   "outputs": [
    {
     "name": "stdout",
     "output_type": "stream",
     "text": [
      "0.41143838358057994\n"
     ]
    }
   ],
   "source": [
    "import math\n",
    "\n",
    "# probability that n people in a room with at least 2 sharing a birthday\n",
    "\n",
    "def prob_birthday_share(n):\n",
    "    return 1 - math.factorial(365) / (math.factorial(365-n) * (365 ** n))\n",
    "\n",
    "\n",
    "print(prob_birthday_share(20))"
   ]
  }
 ],
 "metadata": {
  "kernelspec": {
   "display_name": "mlexp",
   "language": "python",
   "name": "python3"
  },
  "language_info": {
   "codemirror_mode": {
    "name": "ipython",
    "version": 3
   },
   "file_extension": ".py",
   "mimetype": "text/x-python",
   "name": "python",
   "nbconvert_exporter": "python",
   "pygments_lexer": "ipython3",
   "version": "3.9.21"
  }
 },
 "nbformat": 4,
 "nbformat_minor": 2
}
