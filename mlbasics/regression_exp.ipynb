{
 "cells": [
  {
   "cell_type": "markdown",
   "metadata": {},
   "source": [
    "regression: predicting values or outputs based on inputs that could be regarded as the best fit function that maps through the respective data points where any new input\n",
    "value can you give the best approximation of it's output value\n",
    "in the context of machine learning, regression can be considered as a method where a model learns relationships between inputs or features and outputs, where upon training,\n",
    "the model can be fed any respective new values and it will give a predictable or approximate output\n",
    "\n"
   ]
  },
  {
   "cell_type": "markdown",
   "metadata": {},
   "source": [
    "simple linear regression: y = b + mX\n",
    "- basic form of regression that gives a linear equation or a line through data\n",
    "y: dependent variable; b: y-intercept or constant; a: slope or coefficient, X: indepenndent variable or features\n",
    "\n",
    "\n",
    "ordinary least squares: project data points onto the line of the linear equation and the best fit line could be considered one that has the total sum of distance \n",
    "between the line and data points is the least or minimal"
   ]
  },
  {
   "cell_type": "code",
   "execution_count": 2,
   "metadata": {},
   "outputs": [],
   "source": [
    "import pandas as pd\n",
    "import numpy as np\n",
    "import matplotlib.pyplot as plt\n",
    "\n"
   ]
  }
 ],
 "metadata": {
  "kernelspec": {
   "display_name": "mlexp",
   "language": "python",
   "name": "python3"
  },
  "language_info": {
   "codemirror_mode": {
    "name": "ipython",
    "version": 3
   },
   "file_extension": ".py",
   "mimetype": "text/x-python",
   "name": "python",
   "nbconvert_exporter": "python",
   "pygments_lexer": "ipython3",
   "version": "3.9.21"
  }
 },
 "nbformat": 4,
 "nbformat_minor": 2
}
