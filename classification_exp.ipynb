{
  "nbformat": 4,
  "nbformat_minor": 0,
  "metadata": {
    "colab": {
      "provenance": [],
      "authorship_tag": "ABX9TyN3kuRvLPQYnrt0uX59LSfm"
    },
    "kernelspec": {
      "name": "python3",
      "display_name": "Python 3"
    },
    "language_info": {
      "name": "python"
    }
  },
  "cells": [
    {
      "cell_type": "code",
      "execution_count": null,
      "metadata": {
        "id": "VKQGyHmujZuu"
      },
      "outputs": [],
      "source": [
        "import torch\n",
        "import torch.nn as nn\n",
        "import torch.optim as optim\n"
      ]
    },
    {
      "cell_type": "code",
      "source": [
        "class BinaryClassification(nn.Module):\n",
        "    def __init__(self, input_dim=2, num_hidden_layers=2, num_hidden_units=8):\n",
        "        super(BinaryClassification, self).__init__()\n",
        "\n",
        "        \"\"\"\n",
        "        args:\n",
        "            - input_dim (int): number of input features\n",
        "            - num_hidden_layers (int): numer of hidden layers\n",
        "            - num_hidden_units (int): number of hidden units per hidden layer\n",
        "        \"\"\"\n",
        "\n",
        "        layers = [] # list of layers that can be passed into sequential to dynamically create layers\n",
        "\n",
        "        # append the first layer to the list with in_features of input_dim and out_features of num_hidden_units\n",
        "        layers.append(nn.Linear(in_features=input_dim, out_features=num_hidden_units))\n",
        "        layers.append(nn.ReLU())\n",
        "\n",
        "        # for loop to add additional layers\n",
        "        for i in range(num_hidden_layers-1):\n",
        "            layers.append(nn.Linear(num_hidden_units, num_hidden_units))\n",
        "            layers.append(nn.ReLU())\n",
        "\n",
        "        layers.append(nn.Linear(num_hidden_units, 1))\n",
        "\n",
        "\n",
        "        # *layers unpacks the list and each element becomes a individual argument to nn.Sequential\n",
        "        self.layered_model = nn.Sequential(*layers)\n",
        "\n",
        "\n",
        "        def forward(self, x):\n",
        "            return self.layered_model(x)\n",
        "\n",
        "\n"
      ],
      "metadata": {
        "id": "Sw1_YjeOkHRe"
      },
      "execution_count": null,
      "outputs": []
    },
    {
      "cell_type": "code",
      "source": [],
      "metadata": {
        "id": "d5qe6EsPnQuw"
      },
      "execution_count": null,
      "outputs": []
    }
  ]
}