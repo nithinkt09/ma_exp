{
 "cells": [
  {
   "cell_type": "code",
   "execution_count": null,
   "metadata": {},
   "outputs": [],
   "source": [
    "from typing import Iterable, Callable, Set, Tuple, Any, Union"
   ]
  },
  {
   "cell_type": "code",
   "execution_count": 10,
   "metadata": {},
   "outputs": [
    {
     "name": "stdout",
     "output_type": "stream",
     "text": [
      "{0, 515, 5, 520, 10, 525, 15, 530, 20, 535, 25, 540, 30, 545, 35, 550, 40, 555, 45, 560, 50, 565, 55, 570, 60, 575, 65, 580, 70, 585, 75, 590, 80, 595, 85, 600, 90, 605, 95, 610, 100, 615, 105, 620, 110, 625, 115, 630, 120, 635, 125, 640, 130, 645, 135, 650, 140, 655, 145, 660, 150, 665, 155, 670, 160, 675, 165, 680, 170, 685, 175, 690, 180, 695, 185, 700, 190, 705, 195, 710, 200, 715, 205, 720, 210, 725, 215, 730, 220, 735, 225, 740, 230, 745, 235, 750, 240, 755, 245, 760, 250, 765, 255, 770, 260, 775, 265, 780, 270, 785, 275, 790, 280, 795, 285, 800, 290, 805, 295, 810, 300, 815, 305, 820, 310, 825, 315, 830, 320, 835, 325, 840, 330, 845, 335, 850, 340, 855, 345, 860, 350, 865, 355, 870, 360, 875, 365, 880, 370, 885, 375, 890, 380, 895, 385, 900, 390, 905, 395, 910, 400, 915, 405, 920, 410, 925, 415, 930, 420, 935, 425, 940, 430, 945, 435, 950, 440, 955, 445, 960, 450, 965, 455, 970, 460, 975, 465, 980, 470, 985, 475, 990, 480, 995, 485, 490, 495, 500, 505, 510}\n"
     ]
    }
   ],
   "source": [
    "set_builder = lambda condition, UniverseClass: {x for x in UniverseClass if condition(x)}\n",
    "\n",
    "\n",
    "import numpy as np\n",
    "A = np.arange(1000, dtype=int)\n",
    "func = lambda x: x % 5 == 0\n",
    "mod5 = set_builder(func, A)\n",
    "\n",
    "print(mod5)"
   ]
  },
  {
   "cell_type": "code",
   "execution_count": null,
   "metadata": {},
   "outputs": [
    {
     "name": "stdout",
     "output_type": "stream",
     "text": [
      "__get__\n"
     ]
    }
   ],
   "source": []
  },
  {
   "cell_type": "code",
   "execution_count": 11,
   "metadata": {},
   "outputs": [],
   "source": [
    "def set_builder(universe, predicate):\n",
    "    return {x for x in universe if predicate(x)}\n",
    "\n",
    "# universal quantifier\n",
    "def forall(iterable_set, predicate):\n",
    "    return all(predicate(x) for x in iterable_set)\n",
    "\n",
    "# existential quantifier\n",
    "def thereexists(iterable_set, predicate):\n",
    "    return any(predicate(x) for x in iterable_set)\n",
    "\n",
    "\n",
    "# unique existential quantifier\n",
    "def unique_exists(iterable_set, predicate):\n",
    "    check_set = [x for x in iterable_set if predicate(x)]\n",
    "    if len(check_set) == 1:\n",
    "        return True\n",
    "    else:\n",
    "        return False"
   ]
  },
  {
   "cell_type": "code",
   "execution_count": null,
   "metadata": {},
   "outputs": [],
   "source": [
    "def disjoint_union(A, B):\n",
    "    \"\"\"\n",
    "    a set where elements of both sets exists even if they are common\n",
    "    obtained by first taking copies of two sets, such that intersection of those two sets is empty \n",
    "            (done via tagging both sets with respective tag and each element thus becoming a tuple)\n",
    "    the total number of elements or cardinality of resultant disjoint union of sets is sum of the elements in each set\n",
    "    \"\"\"\n",
    "    tag_A = {(x,'a') for x in A}\n",
    "    tag_B = {(x, 'b') for x in B}\n",
    "    return tag_A | tag_B\n",
    "\n",
    "def cartesian_product(A, B):\n",
    "    \"\"\"\n",
    "    set whose elements are ordered pairs (a, b) where a belongs to A and b belongs to B\n",
    "    total number of elements or cardinality of product of two sets is the multiple of cardinality of the respective sets\n",
    "    \"\"\"\n",
    "    return {(a, b) for a in A for b in B}"
   ]
  },
  {
   "cell_type": "code",
   "execution_count": null,
   "metadata": {},
   "outputs": [],
   "source": [
    "def relation(S: Iterable[Any], R: Callable[[Any, Any], bool]) -> Set[Tuple[Any, Any]]:\n",
    "\n",
    "    \"\"\"\n",
    "    a relation R on a given set S is a subset of SxS such that for a,b in S (a, b) belongs to R if a is related to b\n",
    "    the new set R is a subset of S x S\n",
    "\n",
    "    parameters:\n",
    "    - S: collection of elements that can be iterable that allows R to move through that iterable\n",
    "    - R: a relation which takes two elements from the iterable and returns true and if yes the element is added \n",
    "    - returns a set with elements as tuples that satisfies the given relation or condition\n",
    "    \"\"\"\n",
    "    return {(a, b) for a in S for b in S if R(a, b)}"
   ]
  },
  {
   "cell_type": "code",
   "execution_count": 24,
   "metadata": {},
   "outputs": [],
   "source": [
    "def is_reflexive(S: Iterable[Any], relation: Callable[[Any, Any], bool]) -> bool:\n",
    "    \"\"\"\n",
    "    is reflexive if every element is related to istelf by the given relation or condition\n",
    "    \"\"\"\n",
    "    return all(relation(a, a) for a in S)\n",
    "\n",
    "def is_symmetric(S: Iterable[Any], relation: Callable[[Any, Any], bool]) -> bool:\n",
    "    \"\"\"\n",
    "    is symmetric where if (a, b) is a relation then (b, a) is also a realtion and a != b\n",
    "    \"\"\"\n",
    "    return all(relation(b, a) for a in S for b in S if relation(a, b))\n",
    "\n",
    "def is_transitive(S: Iterable[Any], relation: Callable[[Any, Any], bool]) -> bool:\n",
    "    \"\"\"\n",
    "    is transitive where if (a, b) and (b, c) are in relation then (a, c) is also in relation\n",
    "    \"\"\"\n",
    "    return all(relation(a, c) for a in S for b in S for c in S if (relation(a, b) and relation(b, c)))\n",
    "\n",
    "def is_equivalent(S: Iterable[Any], relation: Callable[[Any, Any], bool]) -> bool:\n",
    "    \"\"\"\n",
    "    a relation is equivalent if it is reflexive, symmetric, and transitive\n",
    "    \"\"\"\n",
    "    return is_reflexive(S, relation) and is_transitive(S, relation) and is_symmetric(S, relation)"
   ]
  },
  {
   "cell_type": "code",
   "execution_count": null,
   "metadata": {},
   "outputs": [],
   "source": [
    "def partition_by_equivalence(S: Iterable[Any], eq_relation: Callable[[Any, Any], bool]):\n",
    "\n",
    "    \"\"\"\n",
    "    a partition of set is family or collection of disjoint nonempty subsets of S, union of which is S itself\n",
    "    every element in a given partition set has eq_relation (equivalence relation) \n",
    "    \"\"\"\n",
    "    if not is_equivalent(S, eq_relation):\n",
    "        return f\"{eq_relation.__name__} is not an equivalent relation\"\n",
    "    \n",
    "    partition: Set = set() # set that will hold all the classes that are partitioned based on the equivalence relation\n",
    "    seen = set() # set that checks if the elements are already partitioned and only uses if the element isn't in already partitioned classes\n",
    "\n",
    "    for a in S: #loops through the elements in the given iterable set that needs to be partitioned\n",
    "        if a in seen: # if the element has already participated in partition it is skipped\n",
    "            continue\n",
    "        eq_class = {b for b in S if eq_relation(a, b)} # an equivalent class (set of elements) where all the elements are in equivalence relation to each other\n",
    "        partition.add(frozenset(eq_class)) # the derived partition or eqiuvalent class is added to the partition set\n",
    "        seen |= eq_class # all the elements that have participated in the parition are added to the seen \n",
    "\n",
    "    return partition"
   ]
  },
  {
   "cell_type": "code",
   "execution_count": 19,
   "metadata": {},
   "outputs": [
    {
     "name": "stdout",
     "output_type": "stream",
     "text": [
      "{1, 2, 3, 4, 5, 6, 7}\n",
      "{3, 4, 5}\n",
      "{1, 2}\n",
      "{(2, 4), (3, 4), (1, 4), (2, 3), (3, 3), (1, 3)}\n"
     ]
    }
   ],
   "source": [
    "A = {1, 2, 3, 4, 5}\n",
    "B = {3, 4, 5, 6, 7}\n",
    "\n",
    "print(A.union(B))\n",
    "print(A.intersection(B))\n",
    "print(A.difference(B))\n",
    "print(cartesian_product({1, 2, 3}, {3, 4}))"
   ]
  },
  {
   "cell_type": "code",
   "execution_count": 14,
   "metadata": {},
   "outputs": [
    {
     "name": "stdout",
     "output_type": "stream",
     "text": [
      "{(1, 'a'), (3, 'b'), (5, 'b'), (6, 'b'), (4, 'a'), (2, 'a'), (4, 'b'), (3, 'a'), (5, 'a'), (7, 'b')}\n"
     ]
    }
   ],
   "source": [
    "print(disjoint_union(A, B))"
   ]
  }
 ],
 "metadata": {
  "kernelspec": {
   "display_name": "sage-env",
   "language": "python",
   "name": "python3"
  },
  "language_info": {
   "codemirror_mode": {
    "name": "ipython",
    "version": 3
   },
   "file_extension": ".py",
   "mimetype": "text/x-python",
   "name": "python",
   "nbconvert_exporter": "python",
   "pygments_lexer": "ipython3",
   "version": "3.9.21"
  }
 },
 "nbformat": 4,
 "nbformat_minor": 2
}
