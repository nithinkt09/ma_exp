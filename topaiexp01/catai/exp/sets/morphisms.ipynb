{
 "cells": [
  {
   "cell_type": "code",
   "execution_count": null,
   "metadata": {},
   "outputs": [],
   "source": [
    "from typing import Set, Dict, Callable, Any"
   ]
  },
  {
   "cell_type": "code",
   "execution_count": null,
   "metadata": {},
   "outputs": [
    {
     "name": "stdout",
     "output_type": "stream",
     "text": [
      "Object\n"
     ]
    }
   ],
   "source": [
    "class Object:\n",
    "    def __init__(self, name):\n",
    "        self.name = name\n",
    "        self.source_objects: Set[Dict[str, Set[Object, HomSet]]] = set()\n",
    "        self.target_objects: Set[Dict[str, Set[Object, HomSet]]] = set()\n",
    "\n",
    "\n",
    "\n",
    "class Morphisms:\n",
    "    def __init__(self, name, source_object, target_object, rule_of_assignement):\n",
    "        self.name = name\n",
    "        self.source_object = source_object\n",
    "        self.target_object = target_object\n",
    "        self.rule_of_assignment = rule_of_assignement\n",
    "\n",
    "class HomSet:\n",
    "    def __init___(self, name, source_object, target_object, morphismss=None):\n",
    "        self.source_object = source_object\n",
    "        self.target_object = target_object\n",
    "        self.morphisms: Set[Morphisms] = set(morphismss)\n",
    "\n",
    "\n",
    "class Category:\n",
    "    def __init__(self):\n",
    "        self.objects: Set[Object] = set()\n",
    "        self.hom_sets: Set[HomSet] = set()"
   ]
  },
  {
   "cell_type": "code",
   "execution_count": null,
   "metadata": {},
   "outputs": [],
   "source": []
  }
 ],
 "metadata": {
  "kernelspec": {
   "display_name": "sage-env",
   "language": "python",
   "name": "python3"
  },
  "language_info": {
   "codemirror_mode": {
    "name": "ipython",
    "version": 3
   },
   "file_extension": ".py",
   "mimetype": "text/x-python",
   "name": "python",
   "nbconvert_exporter": "python",
   "pygments_lexer": "ipython3",
   "version": "3.9.21"
  }
 },
 "nbformat": 4,
 "nbformat_minor": 2
}
