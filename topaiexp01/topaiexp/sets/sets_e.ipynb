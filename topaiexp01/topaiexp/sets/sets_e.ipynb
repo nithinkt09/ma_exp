{
 "cells": [
  {
   "cell_type": "markdown",
   "metadata": {},
   "source": [
    "set: a collection of distinct objects, where each element is unique\n",
    "    - uniqueness: no elements appear more than once\n",
    "    - unordered: order of elements is not imposed\n",
    "    - operations: union, intersection, difference, cartesian products, disjoint union"
   ]
  },
  {
   "cell_type": "markdown",
   "metadata": {},
   "source": [
    "set: a well-defined collection of distinct objects that share or have certain properties that satisfies the set definition\n",
    "    - uniquness: each element appears only once (duplicte or repeated elements are still considered the same)\n",
    "    - unordered: no inherent order or arrangement of elements\n",
    "    - operations: union, intersection, difference, disjoint union, product\n",
    "    "
   ]
  },
  {
   "cell_type": "code",
   "execution_count": 6,
   "metadata": {},
   "outputs": [],
   "source": [
    "from sklearn.datasets import load_iris\n",
    "import numpy as np\n",
    "# load iris data set\n",
    "iris = load_iris() # returns an object called Bunch with attributes\n",
    "data = iris.data # a matrix or data from the iris bunch with a numpy array that contains numerical values with 4 columns (sepal length, sepal width, petal length, petal width)\n",
    "target = iris.target # (0, 1, 2) labels that tells which species each flower sample belongs to with each class respectively representing one of the three (01, 1, 2)\n",
    "\n",
    "# data: a feature matrix with shape (150,4) has 150 samples and 4 features\n",
    "indicies = np.arange(len(data)) # creates a range of integers from 0 to 149 (length of the data samples)\n",
    "\n",
    "# target: numpy array containing class labels for iris dataset (values : 0, 1, 2)\n",
    "# target == x: elementwise comparision which returns a new boolean array of the same shape with each element being True if equals to x, false otherwise\n",
    "# np.where returns a tuple of arrays where each array contains the indices along one dimension where the condition is True\n",
    "# np.where()[0] extracts the first array of indices and is extracted and passed into inbuilt python's set object\n",
    "set_A = set(np.where(target==0)[0])\n",
    "\n",
    "\n",
    "# data[:, 0]: extract all rows from the first column that gives out 1d array \n",
    "# np.median : computes the median values of the array it receives\n",
    "median_sepal  = np.median(data[:, 0])\n",
    "\n",
    "# indicies where the frst feature exceeds median\n",
    "set_B = set(np.where(data[:, 0] > median_sepal)[0])"
   ]
  },
  {
   "cell_type": "code",
   "execution_count": null,
   "metadata": {},
   "outputs": [
    {
     "name": "stdout",
     "output_type": "stream",
     "text": [
      "[  0   1   2   3   4   5   6   7   8   9  10  11  12  13  14  15  16  17\n",
      "  18  19  20  21  22  23  24  25  26  27  28  29  30  31  32  33  34  35\n",
      "  36  37  38  39  40  41  42  43  44  45  46  47  48  49  50  51  52  53\n",
      "  54  55  56  57  58  59  60  61  62  63  64  65  66  67  68  69  70  71\n",
      "  72  73  74  75  76  77  78  79  80  81  82  83  84  85  86  87  88  89\n",
      "  90  91  92  93  94  95  96  97  98  99 100 101 102 103 104 105 106 107\n",
      " 108 109 110 111 112 113 114 115 116 117 118 119 120 121 122 123 124 125\n",
      " 126 127 128 129 130 131 132 133 134 135 136 137 138 139 140 141 142 143\n",
      " 144 145 146 147 148 149]\n"
     ]
    }
   ],
   "source": [
    "# set operations on data\n",
    "np_union = np.union1d(np.array(list(set_A)), np.array(list(set_B)))\n",
    "np_intersection = np.intersect1d(np.array(list(set_A)), np.array(list(set_B)))\n",
    "np_difference = np.setdiff1d(np.array(list(set_A)), np.array(list(set_B)))\n",
    "\n"
   ]
  }
 ],
 "metadata": {
  "kernelspec": {
   "display_name": "SageMath 10.5",
   "language": "sage",
   "name": "sagemath"
  },
  "language_info": {
   "codemirror_mode": {
    "name": "ipython",
    "version": 3
   },
   "file_extension": ".py",
   "mimetype": "text/x-python",
   "name": "python",
   "nbconvert_exporter": "python",
   "pygments_lexer": "ipython3",
   "version": "3.9.21"
  }
 },
 "nbformat": 4,
 "nbformat_minor": 2
}
