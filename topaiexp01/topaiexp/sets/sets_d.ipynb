{
 "cells": [
  {
   "cell_type": "code",
   "execution_count": null,
   "metadata": {
    "vscode": {
     "languageId": "plaintext"
    }
   },
   "outputs": [],
   "source": [
    "sets are well-defined collection of distinct objects\n",
    "- well-defined referes to the notion that it is unambiguously clear where the object or alement belongs to a set or not\n",
    "- distinct objects mean that each object in the set is unique and no object is repeated\n",
    "\n",
    "key properties:\n",
    "    - an object either belongs to a set or doesn't\n",
    "    - two sets are considered equal iff they have the same elements\n",
    "    - order is irrelavant, where the order in which the elements are listed does not affect the set\n",
    "    - no element appers more than once\n",
    "\n",
    "set inclusion or subset is a relation between two sets where a set A is a subset or is included in set B iff every element of A is also an element of B\n",
    "    - reflexive: every set is a subset of itself\n",
    "    - transitive: if A is a subset of B and B is a subset of C, then A is a subset of C\n",
    "    - antisymmetry: if A is a subset of B and B is a subset of A then A = B"
   ]
  },
  {
   "cell_type": "markdown",
   "metadata": {},
   "source": [
    "in the context of data analysis, a set could be considered as a collection of distinct elements without any particular order\n",
    "    - preprocessing: removes duplicate entries or extracting unique values\n",
    "    - modelling: defines groups or clusters of data points\n",
    "    - visualization: displays non-redundant data points or labels\n",
    "\n",
    "    - uniqueness: each data point or element appears only once\n",
    "    - operations: union, intersection, or difference for merging, finding similarities, or comparing datasets\n",
    "    - unordered: since sets are unordered, emnphasis is on the memebrship rather than sequence\n",
    "\n",
    "\n",
    "for data anlysis operations:\n",
    "    - data cleaning: removing duplicate rows or values\n",
    "    - feature selection: isolating distinct features or labels\n",
    "    - clustering: intersections can reveal overlaps between different sets of data "
   ]
  },
  {
   "cell_type": "code",
   "execution_count": null,
   "metadata": {
    "vscode": {
     "languageId": "plaintext"
    }
   },
   "outputs": [],
   "source": []
  }
 ],
 "metadata": {
  "language_info": {
   "name": "python"
  }
 },
 "nbformat": 4,
 "nbformat_minor": 2
}
