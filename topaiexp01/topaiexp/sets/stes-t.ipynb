{
 "cells": [
  {
   "cell_type": "markdown",
   "metadata": {},
   "source": [
    "sets: a well-defined collection of distinct objects or elements (can be anything numbers, points, set, or any applicable things)\n",
    "key properties:\n",
    "    - uniqueness: each element in a set is unique (where if there are multiples or repetitions of an element they are considered the same)\n",
    "    - unordered: order of elements does not matter\n",
    "    - basic operaions: union, intersection, difference, disjoint union, products"
   ]
  },
  {
   "cell_type": "markdown",
   "metadata": {},
   "source": [
    "an invariant is a property or an object (or collection of objects) that remains unchanged when certain operations are applied on it, where in the context of sets, uniqueness of element is in an invariant property where no matter how elements are combined or rearranged or applied operations such as union or intersection each element appears only once. \n",
    "\n",
    "     - invariant property: a key characteristic in the context of set which does not introduce duplicate elements (each element is always unique)\n",
    "     - stable structure: invariant provides a consistent foundation, where any operations such as union, intersection, or rearrangement, every set contains each element only once, this fixed notion or characteristic could be regarded as stable structure\n",
    "     - reliability: since this invariant property does not change with these operations, any further reasoning or analysis can be relied on this notion\n",
    "\n",
    "such invariants (uniqueness of elements in a set) are crucial as they serve as a foundation and consistent point of reference that persists, where an element retains it's notion of belonging to a given set even if the set undergoes operations such as union or intersection or any other such set operations\n"
   ]
  },
  {
   "cell_type": "markdown",
   "metadata": {},
   "source": [
    "connected components of a space is a maximal subset in which any two points can be joined by a continuous path, where a piece of the space tha is internally connected no matter which two points are chosen where there is some way to move continuously from one point to the other\n",
    "maximal in this context means that the subset is the largest such possible set which has the property of connectedness and adding any extra point from the whole space the new space or set may not be entirely connected \n",
    "since the connected components are defined via continuous path, they are preserved under continuous changes or deformations of the space\n",
    "\n",
    "loop or a cycle is a closed path where the loop cannot continuously be deformed or contracted to a point within that space, they could be also considered as a representation of holes\n",
    "\n",
    "a void or a cavity is areprsentation of a hole in a space with missing region, where the region is enclosed by structures, which are not merely gaps between points or loops but rather empty volume or regions\n",
    "\n",
    "connected components, loops, and voids persist across scales when extracting the shape of data"
   ]
  },
  {
   "cell_type": "code",
   "execution_count": null,
   "metadata": {
    "vscode": {
     "languageId": "plaintext"
    }
   },
   "outputs": [],
   "source": [
    "sets are well-defined collection of distinct objects\n",
    "- well-defined referes to the notion that it is unambiguously clear where the object or alement belongs to a set or not\n",
    "- distinct objects mean that each object in the set is unique and no object is repeated\n",
    "\n",
    "key properties:\n",
    "    - an object either belongs to a set or doesn't\n",
    "    - two sets are considered equal iff they have the same elements\n",
    "    - order is irrelavant, where the order in which the elements are listed does not affect the set\n",
    "    - no element appers more than once\n",
    "\n",
    "set inclusion or subset is a relation between two sets where a set A is a subset or is included in set B iff every element of A is also an element of B\n",
    "    - reflexive: every set is a subset of itself\n",
    "    - transitive: if A is a subset of B and B is a subset of C, then A is a subset of C\n",
    "    - antisymmetry: if A is a subset of B and B is a subset of A then A = B\n",
    "    "
   ]
  },
  {
   "cell_type": "markdown",
   "metadata": {},
   "source": []
  }
 ],
 "metadata": {
  "language_info": {
   "name": "python"
  }
 },
 "nbformat": 4,
 "nbformat_minor": 2
}
