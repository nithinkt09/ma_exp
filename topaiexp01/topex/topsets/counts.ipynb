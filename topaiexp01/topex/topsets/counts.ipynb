{
 "cells": [
  {
   "cell_type": "code",
   "execution_count": 6,
   "metadata": {},
   "outputs": [],
   "source": [
    "# step-count where there are n objects and r-steps\n",
    "# for each step and for each object there are n_objects if replacement is allowed"
   ]
  },
  {
   "cell_type": "code",
   "execution_count": 1,
   "metadata": {},
   "outputs": [],
   "source": [
    "def step_rule_of_counting(m, n):\n",
    "    # also known as product rule of counting\n",
    "    # m: first part has results with m outcomes\n",
    "    # n:second part has results with n outcomes\n",
    "    return m * n\n",
    "\n",
    "\n",
    "def inclusion_exclusion_counting(A, B):\n",
    "    # also known as counting  with or\n",
    "    # elements can be drawn from either set A or set B, where sets A and B may overlap\n",
    "    # number of outcomes would then be sum of cardinality of two sets - interesection of two sets\n",
    "    set_A = set(A)\n",
    "    set_B = set(B)\n",
    "    set_AnB = set_A.intersection(set_B)\n",
    "    return len(set_A) + len(set_B) - len(set_AnB)"
   ]
  },
  {
   "cell_type": "code",
   "execution_count": 2,
   "metadata": {},
   "outputs": [
    {
     "name": "stdout",
     "output_type": "stream",
     "text": [
      "{('a', 'a', 'p', 'r', 'b'), ('b', 'a', 'a', 'r', 'p'), ('p', 'a', 'a', 'r', 'b'), ('p', 'b', 'a', 'a', 'r'), ('a', 'r', 'p', 'b', 'a'), ('a', 'p', 'r', 'a', 'b'), ('r', 'b', 'a', 'a', 'p'), ('p', 'b', 'a', 'r', 'a'), ('p', 'r', 'a', 'b', 'a'), ('r', 'p', 'a', 'b', 'a'), ('b', 'a', 'a', 'p', 'r'), ('a', 'p', 'b', 'a', 'r'), ('a', 'p', 'b', 'r', 'a'), ('a', 'p', 'a', 'r', 'b'), ('r', 'b', 'a', 'p', 'a'), ('r', 'a', 'b', 'a', 'p'), ('r', 'a', 'a', 'b', 'p'), ('b', 'a', 'r', 'a', 'p'), ('p', 'a', 'r', 'b', 'a'), ('a', 'r', 'b', 'a', 'p'), ('a', 'a', 'r', 'p', 'b'), ('r', 'a', 'b', 'p', 'a'), ('a', 'b', 'r', 'a', 'p'), ('b', 'r', 'p', 'a', 'a'), ('b', 'a', 'r', 'p', 'a'), ('r', 'b', 'p', 'a', 'a'), ('r', 'a', 'p', 'a', 'b'), ('a', 'r', 'a', 'b', 'p'), ('r', 'p', 'a', 'a', 'b'), ('a', 'b', 'a', 'r', 'p'), ('a', 'r', 'b', 'p', 'a'), ('a', 'b', 'p', 'a', 'r'), ('p', 'a', 'r', 'a', 'b'), ('a', 'b', 'r', 'p', 'a'), ('p', 'r', 'a', 'a', 'b'), ('p', 'r', 'b', 'a', 'a'), ('a', 'b', 'p', 'r', 'a'), ('p', 'a', 'b', 'a', 'r'), ('a', 'b', 'a', 'p', 'r'), ('p', 'a', 'a', 'b', 'r'), ('a', 'r', 'p', 'a', 'b'), ('b', 'r', 'a', 'a', 'p'), ('p', 'b', 'r', 'a', 'a'), ('r', 'p', 'b', 'a', 'a'), ('a', 'a', 'p', 'b', 'r'), ('a', 'p', 'a', 'b', 'r'), ('p', 'a', 'b', 'r', 'a'), ('a', 'p', 'r', 'b', 'a'), ('b', 'r', 'a', 'p', 'a'), ('b', 'a', 'p', 'a', 'r'), ('a', 'a', 'b', 'r', 'p'), ('r', 'a', 'a', 'p', 'b'), ('b', 'a', 'p', 'r', 'a'), ('b', 'p', 'a', 'a', 'r'), ('a', 'a', 'r', 'b', 'p'), ('b', 'p', 'r', 'a', 'a'), ('b', 'p', 'a', 'r', 'a'), ('a', 'a', 'b', 'p', 'r'), ('a', 'r', 'a', 'p', 'b'), ('r', 'a', 'p', 'b', 'a')}\n",
      "('a', 'a', 'p', 'r', 'b')\n",
      "('b', 'a', 'a', 'r', 'p')\n",
      "('p', 'a', 'a', 'r', 'b')\n",
      "('p', 'b', 'a', 'a', 'r')\n",
      "('a', 'r', 'p', 'b', 'a')\n",
      "('a', 'p', 'r', 'a', 'b')\n",
      "('r', 'b', 'a', 'a', 'p')\n",
      "('p', 'b', 'a', 'r', 'a')\n",
      "('p', 'r', 'a', 'b', 'a')\n",
      "('r', 'p', 'a', 'b', 'a')\n",
      "('b', 'a', 'a', 'p', 'r')\n",
      "('a', 'p', 'b', 'a', 'r')\n",
      "('a', 'p', 'b', 'r', 'a')\n",
      "('a', 'p', 'a', 'r', 'b')\n",
      "('r', 'b', 'a', 'p', 'a')\n",
      "('r', 'a', 'b', 'a', 'p')\n",
      "('r', 'a', 'a', 'b', 'p')\n",
      "('b', 'a', 'r', 'a', 'p')\n",
      "('p', 'a', 'r', 'b', 'a')\n",
      "('a', 'r', 'b', 'a', 'p')\n",
      "('a', 'a', 'r', 'p', 'b')\n",
      "('r', 'a', 'b', 'p', 'a')\n",
      "('a', 'b', 'r', 'a', 'p')\n",
      "('b', 'r', 'p', 'a', 'a')\n",
      "('b', 'a', 'r', 'p', 'a')\n",
      "('r', 'b', 'p', 'a', 'a')\n",
      "('r', 'a', 'p', 'a', 'b')\n",
      "('a', 'r', 'a', 'b', 'p')\n",
      "('r', 'p', 'a', 'a', 'b')\n",
      "('a', 'b', 'a', 'r', 'p')\n",
      "('a', 'r', 'b', 'p', 'a')\n",
      "('a', 'b', 'p', 'a', 'r')\n",
      "('p', 'a', 'r', 'a', 'b')\n",
      "('a', 'b', 'r', 'p', 'a')\n",
      "('p', 'r', 'a', 'a', 'b')\n",
      "('p', 'r', 'b', 'a', 'a')\n",
      "('a', 'b', 'p', 'r', 'a')\n",
      "('p', 'a', 'b', 'a', 'r')\n",
      "('a', 'b', 'a', 'p', 'r')\n",
      "('p', 'a', 'a', 'b', 'r')\n",
      "('a', 'r', 'p', 'a', 'b')\n",
      "('b', 'r', 'a', 'a', 'p')\n",
      "('p', 'b', 'r', 'a', 'a')\n",
      "('r', 'p', 'b', 'a', 'a')\n",
      "('a', 'a', 'p', 'b', 'r')\n",
      "('a', 'p', 'a', 'b', 'r')\n",
      "('p', 'a', 'b', 'r', 'a')\n",
      "('a', 'p', 'r', 'b', 'a')\n",
      "('b', 'r', 'a', 'p', 'a')\n",
      "('b', 'a', 'p', 'a', 'r')\n",
      "('a', 'a', 'b', 'r', 'p')\n",
      "('r', 'a', 'a', 'p', 'b')\n",
      "('b', 'a', 'p', 'r', 'a')\n",
      "('b', 'p', 'a', 'a', 'r')\n",
      "('a', 'a', 'r', 'b', 'p')\n",
      "('b', 'p', 'r', 'a', 'a')\n",
      "('b', 'p', 'a', 'r', 'a')\n",
      "('a', 'a', 'b', 'p', 'r')\n",
      "('a', 'r', 'a', 'p', 'b')\n",
      "('r', 'a', 'p', 'b', 'a')\n"
     ]
    }
   ],
   "source": [
    "import itertools\n",
    "\n",
    "def iter_perm():\n",
    "    letters = ['b', 'a', 'a', 'r', 'p']\n",
    "    perms = set(itertools.permutations(letters))\n",
    "    print(perms)\n",
    "    for perm in perms:\n",
    "        print(perm)\n",
    "\n",
    "\n",
    "iter_perm()"
   ]
  },
  {
   "cell_type": "code",
   "execution_count": 3,
   "metadata": {},
   "outputs": [
    {
     "name": "stdout",
     "output_type": "stream",
     "text": [
      "2598960\n"
     ]
    }
   ],
   "source": [
    "import math\n",
    "\n",
    "combs = lambda x, y: math.comb(x, y)\n",
    "\n",
    "print(combs(52, 5))"
   ]
  },
  {
   "cell_type": "code",
   "execution_count": 4,
   "metadata": {},
   "outputs": [
    {
     "name": "stdout",
     "output_type": "stream",
     "text": [
      "0.03745311160824717\n"
     ]
    }
   ],
   "source": [
    "from scipy import stats\n",
    "\n",
    "x = stats.binom.pmf(5, 1000, 0.01)\n",
    "print(x)"
   ]
  },
  {
   "cell_type": "code",
   "execution_count": 9,
   "metadata": {},
   "outputs": [
    {
     "name": "stdout",
     "output_type": "stream",
     "text": [
      "0.022963499999999987\n"
     ]
    }
   ],
   "source": [
    "c=stats.binom.pmf(3,7,0.1)\n",
    "print(c)"
   ]
  },
  {
   "cell_type": "code",
   "execution_count": null,
   "metadata": {},
   "outputs": [],
   "source": []
  }
 ],
 "metadata": {
  "kernelspec": {
   "display_name": "mlexp",
   "language": "python",
   "name": "python3"
  },
  "language_info": {
   "codemirror_mode": {
    "name": "ipython",
    "version": 3
   },
   "file_extension": ".py",
   "mimetype": "text/x-python",
   "name": "python",
   "nbconvert_exporter": "python",
   "pygments_lexer": "ipython3",
   "version": "3.9.21"
  }
 },
 "nbformat": 4,
 "nbformat_minor": 2
}
